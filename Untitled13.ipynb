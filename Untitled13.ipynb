{
 "cells": [
  {
   "cell_type": "code",
   "execution_count": 1,
   "id": "b441c004-33e9-45ac-9b82-5029523f1282",
   "metadata": {},
   "outputs": [],
   "source": [
    "import matplotlib.pyplot as plt\n",
    "import pandas as pd\n",
    "from scipy.stats import norm\n",
    "import numpy as np\n",
    "import ipywidgets as widgets\n",
    "import datetime"
   ]
  },
  {
   "cell_type": "code",
   "execution_count": 10,
   "id": "a2d75195-7dbf-4d4b-9f87-eecf2d048e9d",
   "metadata": {
    "tags": []
   },
   "outputs": [
    {
     "data": {
      "text/plain": [
       "[<matplotlib.lines.Line2D at 0x1bdabb46bd0>]"
      ]
     },
     "execution_count": 10,
     "metadata": {},
     "output_type": "execute_result"
    },
    {
     "data": {
      "image/png": "[encoded data removed]",
      "text/plain": [
       "<Figure size 640x480 with 1 Axes>"
      ]
     },
     "metadata": {},
     "output_type": "display_data"
    }
   ],
   "source": [
    "# распределения вероятности получения статуса от МЛК по времени относительно\n",
    "# времени отправки : через 1, 2 ...5 часов\n",
    "timeout_dict = {1: 0.1,\n",
    "                2: 0.25,\n",
    "                3: 0.3,\n",
    "                4: 0.3,\n",
    "                5: 0.05}\n",
    "plt.plot(timeout_dict.keys(), timeout_dict.values())"
   ]
  },
  {
   "cell_type": "code",
   "execution_count": 4,
   "id": "48a4f93b-7f37-43eb-a963-a934c9132bbc",
   "metadata": {
    "jupyter": {
     "source_hidden": true
    },
    "tags": []
   },
   "outputs": [],
   "source": [
    "Fail_Reject = widgets.FloatSlider(\n",
    "    value=0.5,\n",
    "    min=0,\n",
    "    max=1,\n",
    "    step=0.05,\n",
    "    description='Fail_Reject',\n",
    "    disabled=False,\n",
    "    continuous_update=False,\n",
    "    orientation='horizontal',\n",
    "    readout=True,\n",
    "    readout_format='.2f',\n",
    ")\n",
    "Ok = widgets.FloatSlider(\n",
    "    value=0.18,\n",
    "    min=0,\n",
    "    max=1,\n",
    "    step=0.01,\n",
    "    description='Ok',\n",
    "    disabled=False,\n",
    "    continuous_update=False,\n",
    "    orientation='horizontal',\n",
    "    readout=True,\n",
    "    readout_format='.2f',\n",
    ")\n",
    "No = widgets.FloatSlider(\n",
    "    value= 0.02,\n",
    "    min=0,\n",
    "    max=1,\n",
    "    step=0.01,\n",
    "    description='No',\n",
    "    disabled=False,\n",
    "    continuous_update=False,\n",
    "    orientation='horizontal',\n",
    "    readout=True,\n",
    "    readout_format='.2f',\n",
    ")\n",
    "Other = widgets.FloatSlider(\n",
    "    value=0.3,\n",
    "    min=0,\n",
    "    max=1,\n",
    "    step=0.05,\n",
    "    description='Other',\n",
    "    disabled=False,\n",
    "    continuous_update=False,\n",
    "    orientation='horizontal',\n",
    "    readout=True,\n",
    "    readout_format='.2f',\n",
    ")\n",
    "Target = widgets.FloatSlider(\n",
    "    value=Ok.value / 2,\n",
    "    min=0,\n",
    "    max=Ok.value,\n",
    "    step=0.01,\n",
    "    description='Target',\n",
    "    disabled=False,\n",
    "    continuous_update=False,\n",
    "    orientation='horizontal',\n",
    "    readout=True,\n",
    "    readout_format='.2f',\n",
    ")\n",
    "def NO_Tar(change):\n",
    "    No.value = 1 - Other.value - Ok.value - Fail_Reject.value\n",
    "    Target.value = Ok.value\n",
    "    Target.max = Ok.value\n",
    "Ok.observe(NO_Tar)\n",
    "\n",
    "#display(widgets.VBox(children=[Fail_Reject,Ok, No, Other, Target]))"
   ]
  },
  {
   "cell_type": "code",
   "execution_count": 5,
   "id": "50aead00-75d5-4295-a5f2-d7cc79839d51",
   "metadata": {
    "jupyter": {
     "source_hidden": true
    },
    "tags": []
   },
   "outputs": [],
   "source": [
    "Status_dict = {'FR': Fail_Reject.value,\n",
    "               'Ok': Ok.value,\n",
    "               'No': No.value,\n",
    "               'Other': Other.value}"
   ]
  },
  {
   "cell_type": "code",
   "execution_count": 11,
   "id": "a78c03b9-ebda-4290-8eaf-70d4eb6f3028",
   "metadata": {},
   "outputs": [
    {
     "data": {
      "application/vnd.jupyter.widget-view+json": {
       "model_id": "bbb32159ebc74ba6a6afa570205d63e9",
       "version_major": 2,
       "version_minor": 0
      },
      "text/plain": [
       "SelectionRangeSlider(description='Schedule', index=(8, 18), options=(0, 1, 2, 3, 4, 5, 6, 7, 8, 9, 10, 11, 12,…"
      ]
     },
     "execution_count": 11,
     "metadata": {},
     "output_type": "execute_result"
    }
   ],
   "source": [
    "# расписание\n",
    "options = [i for i in range(0,24)]\n",
    "Schedule = widgets.SelectionRangeSlider(\n",
    "    options=options,\n",
    "    index=(8, 18),\n",
    "    description='Schedule',\n",
    "    disabled=False\n",
    ")\n",
    "Schedule"
   ]
  },
  {
   "cell_type": "code",
   "execution_count": 14,
   "id": "5fd50589-ccf2-49cf-8057-535c0ff10416",
   "metadata": {},
   "outputs": [],
   "source": [
    "# настройки очереди\n",
    "hour_limit = 34\n",
    "#day_limit = hour_limit * (Schedule.index[1] - Schedule.index[0])\n",
    "day_limit = 280"
   ]
  },
  {
   "cell_type": "code",
   "execution_count": null,
   "id": "3dc86c03-c4e7-4109-aa26-5873a84d57dc",
   "metadata": {
    "jupyter": {
     "source_hidden": true
    },
    "tags": []
   },
   "outputs": [],
   "source": [
    "picture = widgets.Output(layout={'border': '1px solid black'})"
   ]
  },
  {
   "cell_type": "code",
   "execution_count": null,
   "id": "10d8fd7a-5491-4c9f-b5c3-c80cf3e715f7",
   "metadata": {},
   "outputs": [],
   "source": [
    "def RUN(out):\n",
    "    hour_limit_next = hour_limit\n",
    "    hour_other = 0\n",
    "    picture.clear_output()\n",
    "    \n",
    "    #вычисление часового количества отправок \"k\" в СКК из статистического распределения, предполагая доcтижениt таргета за 2 часа до окончания расписания\n",
    "    #k = day_limit * Target.value / (Schedule.index[1] - Schedule.index[0] - 3) / Ok.value\n",
    "    \n",
    "    #out - итоговая таблица распределения отправок и статусов \n",
    "    out = pd.DataFrame(data = 0, index=range(0,25), columns=['CRM', 'SKK','FR', 'Ok', 'No', 'Other'])\n",
    "    \n",
    "    #timelaps - таблица прогнозируемого распределения статусов\n",
    "    timelaps = pd.DataFrame(data = 0, index=range(0,30), columns=['Ok', 'No', 'Other'])\n",
    "    \n",
    "    for hour in range(0,24):\n",
    "        # обработка \"лимита в следующий час\"\n",
    "        hour_limit_current = hour_limit_next\n",
    "        hour_limit_next = hour_limit\n",
    "        \n",
    "        count_temp = 0\n",
    "        \n",
    "        # \n",
    "        check = 0\n",
    "        \n",
    "        if Schedule.index[0] < hour <= Schedule.index[1]:\n",
    "            # отправляем нотификации, пока не будет достигнут часовой\\дневной лимит  \n",
    "            while (count_temp < hour_limit_current) and out['CRM'].sum() < day_limit:\n",
    "                #обработка \"Other\" (timeout'ы) статусов - их необходимо отправлять сразу без проверки в СКК\n",
    "                if hour_other > 0:\n",
    "                    out.at[hour,'CRM'] += 1\n",
    "                    hour_other -= 1\n",
    "                    count_temp += 1\n",
    "                    \n",
    "                    # компенсируем не учтенные отправки\n",
    "                    check += Target.value/Ok.value\n",
    "                    continue\n",
    "                    \n",
    "                #check - основная проверка: вычисляется был-ли на текущий момент достигнут целевой лимит \"ОК\" статусов учитывая количество уже полученных статусов\n",
    "                # и количество прогнозируемых \"ОК\" статусов\n",
    "                #check = (out['Ok'].sum() + timelaps[hour + 0:].values.sum()*(Ok.value)/(Ok.value + No.value + Other.value))/(out['CRM'].sum() + 0.1 + timelaps[hour + 0:].values.sum()*(Ok.value + Other.value)/(Ok.value + No.value + Other.value))\n",
    "                \n",
    "                # отправка push должна происходить не по всем инцидентам,\n",
    "                # а только по доле \"целевой процент\" / \"теоретически возможный\". Т.е. \n",
    "                # если целевой=возможный, доля равна 1 - push идёт по всем инцидентам\n",
    "                #\n",
    "                # Инкримент переменной check на \"долю\". Когда check >= 1 - производим push \n",
    "                check += Target.value/Ok.value\n",
    "                \n",
    "                #\n",
    "                if check >= 1:\n",
    "                # проверка достижения таргета либо достижение максимального часового количества отправок в СКК\n",
    "#                if check <= Target.value and (out.at[hour,'SKK'] < k ):\n",
    "                    \n",
    "                    #отправка в СКК и получаем рандомный статус, учитывая распределения вероятностей\n",
    "                    out.at[hour,'SKK'] += 1\n",
    "                    new_state = np.random.choice(list(Status_dict.keys()), 1, p=list(Status_dict.values()))\n",
    "                    \n",
    "                    #если статус Fail Reject - отправляем в CRM\n",
    "                    if new_state[0] == 'FR':\n",
    "                        out.at[hour,'CRM'] += 1\n",
    "                        out.at[hour,'FR'] += 1\n",
    "                    # если timeout (Other) - записываем в таблицу прогнозов его получение через 5 часов\n",
    "                    elif new_state[0] == 'Other':\n",
    "                        timelaps.at[hour + 5, new_state[0]] += 1\n",
    "                        #т.к. нотификации в CRM не было - увеличиваем текущий часовой лимит (лимитное АПИ)\n",
    "                        hour_limit_current += 1\n",
    "                    else:\n",
    "                        #получаем время, через которое мы должны получить статус от МЛК и записываем его в таблицу прогнозов\n",
    "                        time_state = np.random.choice(list(timeout_dict.keys()), 1, p=list(timeout_dict.values()))\n",
    "                        timelaps.at[hour + time_state[0], new_state[0]] += 1\n",
    "                        #т.к. нотификации в CRM не было - увеличиваем текущий часовой лимит (лимитное АПИ)\n",
    "                        hour_limit_current += 1\n",
    "                else:\n",
    "                    #отправка в CRM\n",
    "                    out.at[hour,'CRM'] += 1\n",
    "                count_temp += 1\n",
    "\n",
    "    # обработка полученных callback от МЛК в этом часе  \n",
    "        #обработка \"ОК\" статусов, полученных в текущем часе. \n",
    "        out.at[hour,'CRM'] += timelaps.at[hour,'Ok'] # отправка нотификаций по успешным оповещениям и записываем статистику\n",
    "        out.at[hour,'Ok'] += timelaps.at[hour,'Ok']\n",
    "        # уменьшаем лимит для следующего часа на \"переотправленные\" в текущем час\n",
    "        hour_limit_next -= timelaps.at[hour,'Ok'] \n",
    "        \n",
    "        #обработка \"No\" статусов\n",
    "        out.at[hour,'No'] += timelaps.at[hour,'No'] # записываем статистику по неподтвержденным\n",
    "    #    hour_limit_next += timelaps.at[hour,'No'] # НЕ НУЖНО возвращаем лимит по неподтвержденным НЕ НУЖНО\n",
    "        \n",
    "        #обработка \"Other\" статусов - отправку производим в следующем временном интервале\n",
    "        #т.е. с инцидента снимается флаг \"ожидание push'а\" и он нотифицируется в CRM согласно очереди\n",
    "        #т.о. в данной модели эмулируем \"следующий час\", но по факту это может произойти и в текущем.\n",
    "        out.at[hour + 1,'Other'] += timelaps.at[hour,'Other']\n",
    "        hour_other += timelaps.at[hour,'Other']\n",
    "    #    hour_limit_next -= timelaps.at[hour,'Other'] # НЕ НУЖНО уменьшаем некст часовой лимит на переотправленные в текущий час из-за таймаутов       \n",
    "    return out\n",
    "\n",
    "##########################################################################################\n",
    "def DRAW(_):\n",
    "    o = None\n",
    "    out = RUN(o)\n",
    "    print('OUTPUT CRM\\n', 'Target: ', day_limit, 'Current: ', out['CRM'].sum())\n",
    "    print('target Ok: ', Target.value * 100, '%  ', 'Current Ok:', out['Ok'].sum() * 100 / day_limit, '%') \n",
    "    print(out[8:].T)\n",
    "    #print('\\nTIMELAPS')\n",
    "    #print(timelaps[8:].T)\n",
    "    with picture:\n",
    "        print('OUTPUT CRM\\n', 'Target: ', day_limit, 'Current: ', out['CRM'].sum(), 'In schedule: ', out[Schedule.index[0]:Schedule.index[1] + 1]['CRM'].sum())\n",
    "        print('target Ok: ', Target.value * 100, '%  ', 'Current Ok:', out['Ok'].sum() * 100 / day_limit, '%') \n",
    "        print(out[8:].T)\n",
    "        p = out.loc[:, out.columns!='No'][8:].plot.bar(figsize=(15,5))\n",
    "        p.axhline(y=hour_limit, color= 'green', linewidth=1,)\n",
    "        plt.show()\n",
    "#RUN(1)"
   ]
  },
  {
   "cell_type": "code",
   "execution_count": null,
   "id": "58b8551f-aac9-4b11-8f2a-fddf0f8e6602",
   "metadata": {},
   "outputs": [],
   "source": [
    "button = widgets.Button(\n",
    "    description='calc and plot',\n",
    "    disabled=False,\n",
    "    button_style='success', # 'success', 'info', 'warning', 'danger' or ''\n",
    "    tooltip='reroll',\n",
    ")\n",
    "button.on_click(DRAW)\n",
    "display(widgets.Box([widgets.VBox([Fail_Reject,Ok, No, Other, button,Target, picture])]))"
   ]
  },
  {
   "cell_type": "code",
   "execution_count": null,
   "id": "f2393f9a-11fb-4547-8099-53cb7f8ff309",
   "metadata": {},
   "outputs": [],
   "source": [
    "#\n",
    "#\n",
    "# Далее идет мат. моделирование экстраполяции на N дней\n",
    "#"
   ]
  },
  {
   "cell_type": "code",
   "execution_count": null,
   "id": "e5900938-d9f1-4786-b6eb-98fb45b346e2",
   "metadata": {
    "jupyter": {
     "source_hidden": true
    },
    "tags": []
   },
   "outputs": [],
   "source": [
    "N = 30\n",
    "stats = pd.DataFrame(data = 0, index = range(0,N), columns=['Send', 'target'])\n",
    "for i in range(0,N):\n",
    "    o = None\n",
    "    output = RUN(o)\n",
    "    stats.at[i,'Send'] = output['CRM'].sum()\n",
    "    stats.at[i,'target'] = output['Ok'].sum() * 100 / day_limit"
   ]
  },
  {
   "cell_type": "code",
   "execution_count": null,
   "id": "001c4925-f5f0-4391-86eb-a9b7bd82728e",
   "metadata": {
    "jupyter": {
     "source_hidden": true
    },
    "tags": []
   },
   "outputs": [],
   "source": [
    "s= stats['Send'].plot(kind='kde')\n",
    "s.axvline(x=stats['Send'].median(), color= 'green', linewidth=1,)\n",
    "s.axvline(x=day_limit, color= 'red', linewidth=1,)\n",
    "s.annotate(stats['Send'].median(), xy=(stats['Send'].median(),0))"
   ]
  },
  {
   "cell_type": "code",
   "execution_count": null,
   "id": "ba7bc93d-a43e-4ea0-b6b4-5e3328675c56",
   "metadata": {
    "jupyter": {
     "source_hidden": true
    },
    "tags": []
   },
   "outputs": [],
   "source": [
    "p = stats['target'].plot(kind='kde')\n",
    "p.axvline(x=stats['target'].median(), color= 'green', linewidth=1,)\n",
    "p.axvline(x=Target.value * 100, color= 'red', linewidth=1,)\n",
    "p.annotate(stats['target'].median(), xy=(stats['target'].median(),0))"
   ]
  },
  {
   "cell_type": "code",
   "execution_count": null,
   "id": "4af39645-29ff-454c-a5c4-d26f70074114",
   "metadata": {},
   "outputs": [],
   "source": []
  }
 ],
 "metadata": {
  "kernelspec": {
   "display_name": "env",
   "language": "python",
   "name": "env"
  },
  "language_info": {
   "codemirror_mode": {
    "name": "ipython",
    "version": 3
   },
   "file_extension": ".py",
   "mimetype": "text/x-python",
   "name": "python",
   "nbconvert_exporter": "python",
   "pygments_lexer": "ipython3",
   "version": "3.11.0"
  },
  "toc-autonumbering": true,
  "toc-showcode": true,
  "toc-showmarkdowntxt": true
 },
 "nbformat": 4,
 "nbformat_minor": 5
}
