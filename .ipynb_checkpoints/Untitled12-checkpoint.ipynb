{
 "cells": [
  {
   "cell_type": "code",
   "execution_count": 1,
   "id": "b441c004-33e9-45ac-9b82-5029523f1282",
   "metadata": {},
   "outputs": [],
   "source": [
    "import matplotlib.pyplot as plt\n",
    "import pandas as pd\n",
    "from scipy.stats import norm\n",
    "import numpy as np\n",
    "import ipywidgets as widgets\n",
    "import datetime"
   ]
  },
  {
   "cell_type": "code",
   "execution_count": 2,
   "id": "a2d75195-7dbf-4d4b-9f87-eecf2d048e9d",
   "metadata": {
    "tags": []
   },
   "outputs": [],
   "source": [
    "timeout_dict = {1: 0.1,\n",
    "                2: 0.25,\n",
    "                3: 0.3,\n",
    "                4: 0.15,\n",
    "                5: 0.2}"
   ]
  },
  {
   "cell_type": "code",
   "execution_count": 3,
   "id": "4fce9862-a0d4-4eca-b8b3-c756663849f6",
   "metadata": {
    "tags": []
   },
   "outputs": [
    {
     "data": {
      "text/plain": [
       "[<matplotlib.lines.Line2D at 0x1ac1e772a50>]"
      ]
     },
     "execution_count": 3,
     "metadata": {},
     "output_type": "execute_result"
    },
    {
     "data": {
      "image/png": "[encoded data removed]",
      "text/plain": [
       "<Figure size 640x480 with 1 Axes>"
      ]
     },
     "metadata": {},
     "output_type": "display_data"
    }
   ],
   "source": [
    "plt.plot(timeout_dict.values())"
   ]
  },
  {
   "cell_type": "code",
   "execution_count": 4,
   "id": "48a4f93b-7f37-43eb-a963-a934c9132bbc",
   "metadata": {},
   "outputs": [
    {
     "data": {
      "application/vnd.jupyter.widget-view+json": {
       "model_id": "86073bed55b04c02b634289e85b25229",
       "version_major": 2,
       "version_minor": 0
      },
      "text/plain": [
       "VBox(children=(FloatSlider(value=0.5, continuous_update=False, description='Fail_Reject', max=1.0, step=0.05),…"
      ]
     },
     "metadata": {},
     "output_type": "display_data"
    }
   ],
   "source": [
    "Fail_Reject = widgets.FloatSlider(\n",
    "    value=0.5,\n",
    "    min=0,\n",
    "    max=1,\n",
    "    step=0.05,\n",
    "    description='Fail_Reject',\n",
    "    disabled=False,\n",
    "    continuous_update=False,\n",
    "    orientation='horizontal',\n",
    "    readout=True,\n",
    "    readout_format='.2f',\n",
    ")\n",
    "Ok = widgets.FloatSlider(\n",
    "    value=0.18,\n",
    "    min=0,\n",
    "    max=1,\n",
    "    step=0.01,\n",
    "    description='Ok',\n",
    "    disabled=False,\n",
    "    continuous_update=False,\n",
    "    orientation='horizontal',\n",
    "    readout=True,\n",
    "    readout_format='.2f',\n",
    ")\n",
    "No = widgets.FloatSlider(\n",
    "    value= 0.02,\n",
    "    min=0,\n",
    "    max=1,\n",
    "    step=0.01,\n",
    "    description='No',\n",
    "    disabled=False,\n",
    "    continuous_update=False,\n",
    "    orientation='horizontal',\n",
    "    readout=True,\n",
    "    readout_format='.2f',\n",
    ")\n",
    "Other = widgets.FloatSlider(\n",
    "    value=0.3,\n",
    "    min=0,\n",
    "    max=1,\n",
    "    step=0.05,\n",
    "    description='Other',\n",
    "    disabled=False,\n",
    "    continuous_update=False,\n",
    "    orientation='horizontal',\n",
    "    readout=True,\n",
    "    readout_format='.2f',\n",
    ")\n",
    "def NO(change):\n",
    "    No.value = 1 - Other.value - Ok.value - Fail_Reject.value\n",
    "Ok.observe(NO)\n",
    "display(widgets.VBox(children=[Fail_Reject,Ok, No, Other]))"
   ]
  },
  {
   "cell_type": "code",
   "execution_count": 5,
   "id": "50aead00-75d5-4295-a5f2-d7cc79839d51",
   "metadata": {},
   "outputs": [],
   "source": [
    "Status_dict = {'FR': Fail_Reject.value,\n",
    "               'Ok': Ok.value,\n",
    "               'No': No.value,\n",
    "               'Other': Other.value}"
   ]
  },
  {
   "cell_type": "code",
   "execution_count": 6,
   "id": "a78c03b9-ebda-4290-8eaf-70d4eb6f3028",
   "metadata": {},
   "outputs": [
    {
     "data": {
      "application/vnd.jupyter.widget-view+json": {
       "model_id": "eee641e9cf7a46299eafb42b9d7a2d3c",
       "version_major": 2,
       "version_minor": 0
      },
      "text/plain": [
       "SelectionRangeSlider(description='Schedule', index=(8, 18), options=(0, 1, 2, 3, 4, 5, 6, 7, 8, 9, 10, 11, 12,…"
      ]
     },
     "execution_count": 6,
     "metadata": {},
     "output_type": "execute_result"
    }
   ],
   "source": [
    "options = [i for i in range(0,24)]\n",
    "Schedule = widgets.SelectionRangeSlider(\n",
    "    options=options,\n",
    "    index=(8, 18),\n",
    "    description='Schedule',\n",
    "    disabled=False\n",
    ")\n",
    "Schedule"
   ]
  },
  {
   "cell_type": "code",
   "execution_count": 7,
   "id": "2973be07-80a0-487a-b9c4-00156f1a6195",
   "metadata": {},
   "outputs": [
    {
     "data": {
      "application/vnd.jupyter.widget-view+json": {
       "model_id": "004c10c4d5b747f18471981aae7f3ab8",
       "version_major": 2,
       "version_minor": 0
      },
      "text/plain": [
       "FloatSlider(value=0.1, continuous_update=False, description='Target', max=0.18, step=0.05)"
      ]
     },
     "execution_count": 7,
     "metadata": {},
     "output_type": "execute_result"
    }
   ],
   "source": [
    "Target = widgets.FloatSlider(\n",
    "    value=0.1,\n",
    "    min=0,\n",
    "    max=Ok.value,\n",
    "    step=0.05,\n",
    "    description='Target',\n",
    "    disabled=False,\n",
    "    continuous_update=False,\n",
    "    orientation='horizontal',\n",
    "    readout=True,\n",
    "    readout_format='.2f',\n",
    ")\n",
    "Target"
   ]
  },
  {
   "cell_type": "code",
   "execution_count": 8,
   "id": "5fd50589-ccf2-49cf-8057-535c0ff10416",
   "metadata": {},
   "outputs": [],
   "source": [
    "#day_limit = 280\n",
    "hour_limit = 34\n",
    "#day_limit = hour_limit * (Schedule.index[1] - Schedule.index[0])\n",
    "day_limit = 280"
   ]
  },
  {
   "cell_type": "code",
   "execution_count": 9,
   "id": "3dc86c03-c4e7-4109-aa26-5873a84d57dc",
   "metadata": {},
   "outputs": [],
   "source": [
    "picture = widgets.Output(layout={'border': '1px solid black'})"
   ]
  },
  {
   "cell_type": "code",
   "execution_count": 36,
   "id": "10d8fd7a-5491-4c9f-b5c3-c80cf3e715f7",
   "metadata": {},
   "outputs": [],
   "source": [
    "#out = {'CRM':0.1,\n",
    "#       'Ok': 0,\n",
    "#       'No':0}\n",
    "#вычисление часового количества отправок в СКК из статистического распределения, предполагая дотижения таргета за 2 часа до окончания расписания\n",
    "#@picture.capture()\n",
    "def RUN(_):\n",
    "    picture.clear_output()\n",
    "    k = day_limit * Target.value / (Schedule.index[1] - Schedule.index[0] - 2) / Ok.value\n",
    "    hour_limit_next = hour_limit\n",
    "    out = pd.DataFrame(data = 0, index=range(0,25), columns=['CRM', 'SKK', 'Ok', 'No', 'Other']) # статусы отправок\n",
    "    timelaps = pd.DataFrame(data = 0, index=range(0,30), columns=['Ok', 'No', 'Other']) # прогнозируемы статусы\n",
    "    for hour in range(0,24):\n",
    "#        with picture: print(hour)\n",
    "        hour_limit_current = hour_limit_next\n",
    "        hour_limit_next = hour_limit\n",
    "        count_temp = 0\n",
    "        if Schedule.index[0] < hour <= Schedule.index[1]:\n",
    "    # обработка стандартных нотификаций в данный час и нотификаций от увеличенных лимитов в текущий час  \n",
    "            while (count_temp < hour_limit_current) and out['CRM'].sum() < day_limit:   \n",
    "                check = (out['Ok'].sum() + timelaps[hour:].values.sum()*(Ok.value + No.value)/(Ok.value + No.value + Other.value))/ day_limit\n",
    "                if check < Target.value and (count_temp < k ) :\n",
    "                    new_state = np.random.choice(list(Status_dict.keys()), 1, p=list(Status_dict.values()))\n",
    "                    out.at[hour,'SKK'] += 1\n",
    "                    if new_state[0] == 'FR':\n",
    "                        out.at[hour,'CRM'] += 1\n",
    "                    else:\n",
    "                        time_state = np.random.choice(list(timeout_dict.keys()), 1, p=list(timeout_dict.values()))\n",
    "                        timelaps.at[hour + time_state[0], new_state[0]] += 1\n",
    "                        hour_limit_current += 1\n",
    "                else:\n",
    "                    out.at[hour,'CRM'] += 1\n",
    "                count_temp += 1\n",
    "\n",
    "    # обработка полученных callback от МЛК в этом часе  \n",
    "        out.at[hour,'CRM'] += timelaps.at[hour,'Ok'] # отправка нотификаций по успешным оповещениям и записываем статистику\n",
    "        out.at[hour,'Ok'] += timelaps.at[hour,'Ok']\n",
    "        hour_limit_next -= timelaps.at[hour,'Ok'] # уменьшаем некст часовой лимит на переотправленные в текущий час\n",
    "\n",
    "        out.at[hour,'No'] += timelaps.at[hour,'No'] # записываем статистику по неподтвержденным\n",
    "    #    hour_limit_next += timelaps.at[hour,'No'] # возвращаем лимит по неподтвержденным НЕ НУЖНО\n",
    "    # нужна проверка на расписание    \n",
    "    #    out.at[hour + 1,'CRM'] += timelaps.at[hour,'Other'] # отправка нотификаций по таймаутам и записываем статистику\n",
    "        out.at[hour,'Other'] += timelaps.at[hour,'Other']\n",
    "    #    hour_limit_next -= timelaps.at[hour,'Other'] # уменьшаем некст часовой лимит на переотправленные в текущий час из-за таймаутов       \n",
    "\n",
    "\n",
    "    #out\n",
    "    print('OUTPUT CRM\\n', 'Target: ', day_limit, 'Current: ', out['CRM'].sum())\n",
    "    print('target Ok: ', Target.value * 100, '%  ', 'Current Ok:', out['Ok'].sum() * 100 / day_limit, '%') \n",
    "    print(out[8:].T)\n",
    "    #print('\\nTIMELAPS')\n",
    "    #print(timelaps[8:].T)\n",
    "    with picture:\n",
    "        print('OUTPUT CRM\\n', 'Target: ', day_limit, 'Current: ', out['CRM'].sum(), 'In schedule: ', out[Schedule.index[0]:Schedule.index[1] + 1]['CRM'].sum())\n",
    "        print('target Ok: ', Target.value * 100, '%  ', 'Current Ok:', out['Ok'].sum() * 100 / day_limit, '%') \n",
    "        print(out[8:].T)\n",
    "        p = out.loc[:, out.columns!='No'][8:].plot.bar(figsize=(15,5))\n",
    "        p.axhline(y=hour_limit, color= 'green', linewidth=1,)\n",
    "        plt.show()\n",
    "#RUN(1)"
   ]
  },
  {
   "cell_type": "code",
   "execution_count": 38,
   "id": "58b8551f-aac9-4b11-8f2a-fddf0f8e6602",
   "metadata": {},
   "outputs": [
    {
     "data": {
      "application/vnd.jupyter.widget-view+json": {
       "model_id": "14d3630408a945268e365c139c8b0239",
       "version_major": 2,
       "version_minor": 0
      },
      "text/plain": [
       "Box(children=(VBox(children=(FloatSlider(value=0.5, continuous_update=False, description='Fail_Reject', max=1.…"
      ]
     },
     "metadata": {},
     "output_type": "display_data"
    }
   ],
   "source": [
    "button = widgets.Button(\n",
    "    description='calc and plot',\n",
    "    disabled=False,\n",
    "    button_style='success', # 'success', 'info', 'warning', 'danger' or ''\n",
    "    tooltip='reroll',\n",
    ")\n",
    "button.on_click(RUN)\n",
    "display(widgets.Box([widgets.VBox([Fail_Reject,Ok, No, Other, picture]),Target, button]))"
   ]
  },
  {
   "cell_type": "code",
   "execution_count": null,
   "id": "e5900938-d9f1-4786-b6eb-98fb45b346e2",
   "metadata": {},
   "outputs": [],
   "source": []
  }
 ],
 "metadata": {
  "kernelspec": {
   "display_name": "env",
   "language": "python",
   "name": "env"
  },
  "language_info": {
   "codemirror_mode": {
    "name": "ipython",
    "version": 3
   },
   "file_extension": ".py",
   "mimetype": "text/x-python",
   "name": "python",
   "nbconvert_exporter": "python",
   "pygments_lexer": "ipython3",
   "version": "3.11.0"
  }
 },
 "nbformat": 4,
 "nbformat_minor": 5
}
